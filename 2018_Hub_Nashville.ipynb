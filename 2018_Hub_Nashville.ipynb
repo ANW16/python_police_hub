{
 "cells": [
  {
   "cell_type": "code",
   "execution_count": 1,
   "id": "e213d899",
   "metadata": {},
   "outputs": [],
   "source": [
    "import pandas as pd\n",
    "import matplotlib.pyplot as plt\n",
    "import seaborn as sns\n",
    "import numpy as np\n",
    "import sqlite3 as sql\n",
    "\n",
    "%matplotlib inline"
   ]
  },
  {
   "cell_type": "code",
   "execution_count": 2,
   "id": "03879d0d",
   "metadata": {},
   "outputs": [],
   "source": [
    "hub = pd.read_csv('../Data/hubNashville_2018.csv')"
   ]
  },
  {
   "cell_type": "code",
   "execution_count": 3,
   "id": "939e299c",
   "metadata": {},
   "outputs": [
    {
     "data": {
      "text/plain": [
       "<bound method Index.unique of Index(['Request #', 'Status', 'Request Type', 'Subrequest Type',\n",
       "       'Additional Subrequest Type', 'Date / Time Opened',\n",
       "       'Date / Time Closed', 'Request Origin', 'Zipcode', 'Latitude',\n",
       "       'Longitude'],\n",
       "      dtype='object')>"
      ]
     },
     "execution_count": 3,
     "metadata": {},
     "output_type": "execute_result"
    }
   ],
   "source": [
    "hub.columns.unique"
   ]
  },
  {
   "cell_type": "code",
   "execution_count": 4,
   "id": "93bbf1d9",
   "metadata": {},
   "outputs": [],
   "source": [
    "hub = hub.rename(columns = {'Request #' : 'request_id', 'Status' : 'status', 'Request Type' : 'request_type', 'Subrequest Type' : 'subrequest_type',\n",
    "       'Additional Subrequest Type' : 'add_subrequest_type', 'Date / Time Opened' : 'opened',\n",
    "       'Date / Time Closed' : 'closed', 'Request Origin' : 'origin', 'Zipcode' : 'zipcode', 'Latitude' : 'lat',\n",
    "       'Longitude' : 'lng'})"
   ]
  },
  {
   "cell_type": "code",
   "execution_count": 5,
   "id": "ad257ef5",
   "metadata": {},
   "outputs": [],
   "source": [
    "focused_hub = hub.loc[~hub['closed'].isna()]"
   ]
  },
  {
   "cell_type": "code",
   "execution_count": 6,
   "id": "6635022b",
   "metadata": {},
   "outputs": [
    {
     "name": "stderr",
     "output_type": "stream",
     "text": [
      "<ipython-input-6-0af05d51c2fc>:1: SettingWithCopyWarning: \n",
      "A value is trying to be set on a copy of a slice from a DataFrame.\n",
      "Try using .loc[row_indexer,col_indexer] = value instead\n",
      "\n",
      "See the caveats in the documentation: https://pandas.pydata.org/pandas-docs/stable/user_guide/indexing.html#returning-a-view-versus-a-copy\n",
      "  focused_hub['opened'] = pd.to_datetime(focused_hub['opened'])\n"
     ]
    }
   ],
   "source": [
    "focused_hub['opened'] = pd.to_datetime(focused_hub['opened'])"
   ]
  },
  {
   "cell_type": "code",
   "execution_count": 7,
   "id": "731c1218",
   "metadata": {},
   "outputs": [
    {
     "name": "stderr",
     "output_type": "stream",
     "text": [
      "<ipython-input-7-e1a994f87d3b>:1: SettingWithCopyWarning: \n",
      "A value is trying to be set on a copy of a slice from a DataFrame.\n",
      "Try using .loc[row_indexer,col_indexer] = value instead\n",
      "\n",
      "See the caveats in the documentation: https://pandas.pydata.org/pandas-docs/stable/user_guide/indexing.html#returning-a-view-versus-a-copy\n",
      "  focused_hub['closed'] = pd.to_datetime(focused_hub['closed'])\n"
     ]
    }
   ],
   "source": [
    "focused_hub['closed'] = pd.to_datetime(focused_hub['closed'])"
   ]
  },
  {
   "cell_type": "code",
   "execution_count": 8,
   "id": "5c4252d4",
   "metadata": {},
   "outputs": [
    {
     "name": "stderr",
     "output_type": "stream",
     "text": [
      "<ipython-input-8-cc4915dbc075>:1: SettingWithCopyWarning: \n",
      "A value is trying to be set on a copy of a slice from a DataFrame.\n",
      "Try using .loc[row_indexer,col_indexer] = value instead\n",
      "\n",
      "See the caveats in the documentation: https://pandas.pydata.org/pandas-docs/stable/user_guide/indexing.html#returning-a-view-versus-a-copy\n",
      "  focused_hub['resolution_time'] = (focused_hub.closed-focused_hub.opened)\n"
     ]
    }
   ],
   "source": [
    "focused_hub['resolution_time'] = (focused_hub.closed-focused_hub.opened)"
   ]
  },
  {
   "cell_type": "code",
   "execution_count": 9,
   "id": "14c90dc1",
   "metadata": {},
   "outputs": [],
   "source": [
    "slow_to_resolve = focused_hub"
   ]
  },
  {
   "cell_type": "code",
   "execution_count": 10,
   "id": "96ffabaf",
   "metadata": {},
   "outputs": [
    {
     "name": "stderr",
     "output_type": "stream",
     "text": [
      "<ipython-input-10-2c61946e436c>:1: SettingWithCopyWarning: \n",
      "A value is trying to be set on a copy of a slice from a DataFrame.\n",
      "Try using .loc[row_indexer,col_indexer] = value instead\n",
      "\n",
      "See the caveats in the documentation: https://pandas.pydata.org/pandas-docs/stable/user_guide/indexing.html#returning-a-view-versus-a-copy\n",
      "  slow_to_resolve['resolution_time'] = slow_to_resolve['resolution_time'].dt.days\n"
     ]
    }
   ],
   "source": [
    "slow_to_resolve['resolution_time'] = slow_to_resolve['resolution_time'].dt.days"
   ]
  },
  {
   "cell_type": "code",
   "execution_count": 24,
   "id": "27304349",
   "metadata": {},
   "outputs": [],
   "source": [
    "slow_to_resolve = slow_to_resolve.loc[slow_to_resolve.resolution_time>365]"
   ]
  },
  {
   "cell_type": "code",
   "execution_count": 28,
   "id": "3fc0f69b",
   "metadata": {},
   "outputs": [
    {
     "data": {
      "text/html": [
       "<div>\n",
       "<style scoped>\n",
       "    .dataframe tbody tr th:only-of-type {\n",
       "        vertical-align: middle;\n",
       "    }\n",
       "\n",
       "    .dataframe tbody tr th {\n",
       "        vertical-align: top;\n",
       "    }\n",
       "\n",
       "    .dataframe thead th {\n",
       "        text-align: right;\n",
       "    }\n",
       "</style>\n",
       "<table border=\"1\" class=\"dataframe\">\n",
       "  <thead>\n",
       "    <tr style=\"text-align: right;\">\n",
       "      <th></th>\n",
       "      <th>index</th>\n",
       "      <th>request_id</th>\n",
       "      <th>status</th>\n",
       "      <th>request_type</th>\n",
       "      <th>subrequest_type</th>\n",
       "      <th>add_subrequest_type</th>\n",
       "      <th>opened</th>\n",
       "      <th>closed</th>\n",
       "      <th>origin</th>\n",
       "      <th>zipcode</th>\n",
       "      <th>lat</th>\n",
       "      <th>lng</th>\n",
       "      <th>resolution_time</th>\n",
       "    </tr>\n",
       "  </thead>\n",
       "  <tbody>\n",
       "    <tr>\n",
       "      <th>0</th>\n",
       "      <td>244</td>\n",
       "      <td>112161</td>\n",
       "      <td>Closed</td>\n",
       "      <td>Property Violations</td>\n",
       "      <td>Residential Complaint</td>\n",
       "      <td>Residential Complaint</td>\n",
       "      <td>2018-10-25 18:28:49</td>\n",
       "      <td>2020-03-18 08:12:19</td>\n",
       "      <td>hubNashville Community</td>\n",
       "      <td>37115.0</td>\n",
       "      <td>36.258170</td>\n",
       "      <td>-86.695750</td>\n",
       "      <td>509</td>\n",
       "    </tr>\n",
       "    <tr>\n",
       "      <th>1</th>\n",
       "      <td>250</td>\n",
       "      <td>123468</td>\n",
       "      <td>Closed</td>\n",
       "      <td>Public Safety</td>\n",
       "      <td>Abandoned Vehicles</td>\n",
       "      <td>Abandoned Vehicles</td>\n",
       "      <td>2018-12-14 13:12:04</td>\n",
       "      <td>2020-06-29 14:41:39</td>\n",
       "      <td>Phone</td>\n",
       "      <td>37207.0</td>\n",
       "      <td>36.245086</td>\n",
       "      <td>-86.773350</td>\n",
       "      <td>563</td>\n",
       "    </tr>\n",
       "    <tr>\n",
       "      <th>2</th>\n",
       "      <td>427</td>\n",
       "      <td>48380</td>\n",
       "      <td>Closed</td>\n",
       "      <td>Streets, Roads &amp; Sidewalks</td>\n",
       "      <td>Dip/Bump in Roadway</td>\n",
       "      <td>Dip/Bump in Roadway</td>\n",
       "      <td>2018-02-22 16:38:31</td>\n",
       "      <td>2019-12-30 16:59:17</td>\n",
       "      <td>hubNashville Community</td>\n",
       "      <td>37221.0</td>\n",
       "      <td>36.062642</td>\n",
       "      <td>-86.972435</td>\n",
       "      <td>676</td>\n",
       "    </tr>\n",
       "    <tr>\n",
       "      <th>3</th>\n",
       "      <td>522</td>\n",
       "      <td>117153</td>\n",
       "      <td>Closed</td>\n",
       "      <td>Other</td>\n",
       "      <td>Other</td>\n",
       "      <td>Other</td>\n",
       "      <td>2018-11-16 03:45:14</td>\n",
       "      <td>2020-01-17 20:39:58</td>\n",
       "      <td>hubNashville Community</td>\n",
       "      <td>37115.0</td>\n",
       "      <td>36.243802</td>\n",
       "      <td>-86.717873</td>\n",
       "      <td>427</td>\n",
       "    </tr>\n",
       "    <tr>\n",
       "      <th>4</th>\n",
       "      <td>577</td>\n",
       "      <td>84291</td>\n",
       "      <td>Closed</td>\n",
       "      <td>Property Violations</td>\n",
       "      <td>Cars Parked on Lawn</td>\n",
       "      <td>Cars Parked on Lawn</td>\n",
       "      <td>2018-07-19 18:50:09</td>\n",
       "      <td>2020-05-08 07:10:49</td>\n",
       "      <td>hubNashville Community</td>\n",
       "      <td>37211.0</td>\n",
       "      <td>36.127623</td>\n",
       "      <td>-86.757789</td>\n",
       "      <td>658</td>\n",
       "    </tr>\n",
       "    <tr>\n",
       "      <th>...</th>\n",
       "      <td>...</td>\n",
       "      <td>...</td>\n",
       "      <td>...</td>\n",
       "      <td>...</td>\n",
       "      <td>...</td>\n",
       "      <td>...</td>\n",
       "      <td>...</td>\n",
       "      <td>...</td>\n",
       "      <td>...</td>\n",
       "      <td>...</td>\n",
       "      <td>...</td>\n",
       "      <td>...</td>\n",
       "      <td>...</td>\n",
       "    </tr>\n",
       "    <tr>\n",
       "      <th>282</th>\n",
       "      <td>69089</td>\n",
       "      <td>48747</td>\n",
       "      <td>Closed</td>\n",
       "      <td>Streets, Roads &amp; Sidewalks</td>\n",
       "      <td>Contractor Complaint</td>\n",
       "      <td>Contractor Complaint</td>\n",
       "      <td>2018-02-23 14:08:22</td>\n",
       "      <td>2019-10-31 21:00:15</td>\n",
       "      <td>Phone</td>\n",
       "      <td>37206.0</td>\n",
       "      <td>36.184193</td>\n",
       "      <td>-86.738066</td>\n",
       "      <td>615</td>\n",
       "    </tr>\n",
       "    <tr>\n",
       "      <th>283</th>\n",
       "      <td>74106</td>\n",
       "      <td>55691</td>\n",
       "      <td>Closed</td>\n",
       "      <td>Property Violations</td>\n",
       "      <td>Dilapidated Structures</td>\n",
       "      <td>Dilapidated Structures</td>\n",
       "      <td>2018-03-22 21:49:03</td>\n",
       "      <td>2020-06-29 15:46:25</td>\n",
       "      <td>hubNashville Community</td>\n",
       "      <td>37207.0</td>\n",
       "      <td>36.204541</td>\n",
       "      <td>-86.765310</td>\n",
       "      <td>829</td>\n",
       "    </tr>\n",
       "    <tr>\n",
       "      <th>284</th>\n",
       "      <td>75385</td>\n",
       "      <td>42789</td>\n",
       "      <td>Closed</td>\n",
       "      <td>Streets, Roads &amp; Sidewalks</td>\n",
       "      <td>Curbing and Berms</td>\n",
       "      <td>Damaged Curb</td>\n",
       "      <td>2018-01-30 14:50:00</td>\n",
       "      <td>2019-12-30 16:56:00</td>\n",
       "      <td>Phone</td>\n",
       "      <td>37205.0</td>\n",
       "      <td>36.133250</td>\n",
       "      <td>-86.826109</td>\n",
       "      <td>699</td>\n",
       "    </tr>\n",
       "    <tr>\n",
       "      <th>285</th>\n",
       "      <td>76156</td>\n",
       "      <td>52022</td>\n",
       "      <td>Closed</td>\n",
       "      <td>Streets, Roads &amp; Sidewalks</td>\n",
       "      <td>Contractor Complaint</td>\n",
       "      <td>Contractor Complaint</td>\n",
       "      <td>2018-03-07 16:33:27</td>\n",
       "      <td>2019-10-31 21:00:15</td>\n",
       "      <td>hubNashville Community</td>\n",
       "      <td>37206.0</td>\n",
       "      <td>36.176013</td>\n",
       "      <td>-86.751350</td>\n",
       "      <td>603</td>\n",
       "    </tr>\n",
       "    <tr>\n",
       "      <th>286</th>\n",
       "      <td>81091</td>\n",
       "      <td>85664</td>\n",
       "      <td>Closed</td>\n",
       "      <td>Streets, Roads &amp; Sidewalks</td>\n",
       "      <td>Request New Sign</td>\n",
       "      <td>Request New Sign</td>\n",
       "      <td>2018-07-25 20:07:00</td>\n",
       "      <td>2020-12-29 21:13:19</td>\n",
       "      <td>Phone</td>\n",
       "      <td>37207.0</td>\n",
       "      <td>36.231660</td>\n",
       "      <td>-86.803969</td>\n",
       "      <td>888</td>\n",
       "    </tr>\n",
       "  </tbody>\n",
       "</table>\n",
       "<p>287 rows × 13 columns</p>\n",
       "</div>"
      ],
      "text/plain": [
       "     index  request_id  status                request_type  \\\n",
       "0      244      112161  Closed         Property Violations   \n",
       "1      250      123468  Closed               Public Safety   \n",
       "2      427       48380  Closed  Streets, Roads & Sidewalks   \n",
       "3      522      117153  Closed                       Other   \n",
       "4      577       84291  Closed         Property Violations   \n",
       "..     ...         ...     ...                         ...   \n",
       "282  69089       48747  Closed  Streets, Roads & Sidewalks   \n",
       "283  74106       55691  Closed         Property Violations   \n",
       "284  75385       42789  Closed  Streets, Roads & Sidewalks   \n",
       "285  76156       52022  Closed  Streets, Roads & Sidewalks   \n",
       "286  81091       85664  Closed  Streets, Roads & Sidewalks   \n",
       "\n",
       "            subrequest_type     add_subrequest_type              opened  \\\n",
       "0     Residential Complaint   Residential Complaint 2018-10-25 18:28:49   \n",
       "1        Abandoned Vehicles      Abandoned Vehicles 2018-12-14 13:12:04   \n",
       "2       Dip/Bump in Roadway     Dip/Bump in Roadway 2018-02-22 16:38:31   \n",
       "3                     Other                   Other 2018-11-16 03:45:14   \n",
       "4       Cars Parked on Lawn     Cars Parked on Lawn 2018-07-19 18:50:09   \n",
       "..                      ...                     ...                 ...   \n",
       "282    Contractor Complaint    Contractor Complaint 2018-02-23 14:08:22   \n",
       "283  Dilapidated Structures  Dilapidated Structures 2018-03-22 21:49:03   \n",
       "284       Curbing and Berms            Damaged Curb 2018-01-30 14:50:00   \n",
       "285    Contractor Complaint    Contractor Complaint 2018-03-07 16:33:27   \n",
       "286        Request New Sign        Request New Sign 2018-07-25 20:07:00   \n",
       "\n",
       "                 closed                  origin  zipcode        lat  \\\n",
       "0   2020-03-18 08:12:19  hubNashville Community  37115.0  36.258170   \n",
       "1   2020-06-29 14:41:39                   Phone  37207.0  36.245086   \n",
       "2   2019-12-30 16:59:17  hubNashville Community  37221.0  36.062642   \n",
       "3   2020-01-17 20:39:58  hubNashville Community  37115.0  36.243802   \n",
       "4   2020-05-08 07:10:49  hubNashville Community  37211.0  36.127623   \n",
       "..                  ...                     ...      ...        ...   \n",
       "282 2019-10-31 21:00:15                   Phone  37206.0  36.184193   \n",
       "283 2020-06-29 15:46:25  hubNashville Community  37207.0  36.204541   \n",
       "284 2019-12-30 16:56:00                   Phone  37205.0  36.133250   \n",
       "285 2019-10-31 21:00:15  hubNashville Community  37206.0  36.176013   \n",
       "286 2020-12-29 21:13:19                   Phone  37207.0  36.231660   \n",
       "\n",
       "           lng  resolution_time  \n",
       "0   -86.695750              509  \n",
       "1   -86.773350              563  \n",
       "2   -86.972435              676  \n",
       "3   -86.717873              427  \n",
       "4   -86.757789              658  \n",
       "..         ...              ...  \n",
       "282 -86.738066              615  \n",
       "283 -86.765310              829  \n",
       "284 -86.826109              699  \n",
       "285 -86.751350              603  \n",
       "286 -86.803969              888  \n",
       "\n",
       "[287 rows x 13 columns]"
      ]
     },
     "execution_count": 28,
     "metadata": {},
     "output_type": "execute_result"
    }
   ],
   "source": [
    "slow_to_resolve.reset_index()"
   ]
  },
  {
   "cell_type": "code",
   "execution_count": 31,
   "id": "ff9404a7",
   "metadata": {},
   "outputs": [],
   "source": [
    "grouped_slow_requests = slow_to_resolve.groupby(['zipcode', 'request_type'])['request_id'].agg('count').reset_index()"
   ]
  },
  {
   "cell_type": "code",
   "execution_count": 32,
   "id": "067eb460",
   "metadata": {},
   "outputs": [
    {
     "data": {
      "text/html": [
       "<div>\n",
       "<style scoped>\n",
       "    .dataframe tbody tr th:only-of-type {\n",
       "        vertical-align: middle;\n",
       "    }\n",
       "\n",
       "    .dataframe tbody tr th {\n",
       "        vertical-align: top;\n",
       "    }\n",
       "\n",
       "    .dataframe thead th {\n",
       "        text-align: right;\n",
       "    }\n",
       "</style>\n",
       "<table border=\"1\" class=\"dataframe\">\n",
       "  <thead>\n",
       "    <tr style=\"text-align: right;\">\n",
       "      <th></th>\n",
       "      <th>zipcode</th>\n",
       "      <th>request_type</th>\n",
       "      <th>request_id</th>\n",
       "    </tr>\n",
       "  </thead>\n",
       "  <tbody>\n",
       "    <tr>\n",
       "      <th>0</th>\n",
       "      <td>37013.0</td>\n",
       "      <td>Other</td>\n",
       "      <td>1</td>\n",
       "    </tr>\n",
       "    <tr>\n",
       "      <th>1</th>\n",
       "      <td>37013.0</td>\n",
       "      <td>Planning &amp; Zoning</td>\n",
       "      <td>1</td>\n",
       "    </tr>\n",
       "    <tr>\n",
       "      <th>2</th>\n",
       "      <td>37013.0</td>\n",
       "      <td>Property Violations</td>\n",
       "      <td>3</td>\n",
       "    </tr>\n",
       "    <tr>\n",
       "      <th>3</th>\n",
       "      <td>37013.0</td>\n",
       "      <td>Streets, Roads &amp; Sidewalks</td>\n",
       "      <td>1</td>\n",
       "    </tr>\n",
       "    <tr>\n",
       "      <th>4</th>\n",
       "      <td>37015.0</td>\n",
       "      <td>Property Violations</td>\n",
       "      <td>2</td>\n",
       "    </tr>\n",
       "    <tr>\n",
       "      <th>...</th>\n",
       "      <td>...</td>\n",
       "      <td>...</td>\n",
       "      <td>...</td>\n",
       "    </tr>\n",
       "    <tr>\n",
       "      <th>82</th>\n",
       "      <td>37220.0</td>\n",
       "      <td>Streets, Roads &amp; Sidewalks</td>\n",
       "      <td>1</td>\n",
       "    </tr>\n",
       "    <tr>\n",
       "      <th>83</th>\n",
       "      <td>37221.0</td>\n",
       "      <td>Education &amp; Libraries</td>\n",
       "      <td>1</td>\n",
       "    </tr>\n",
       "    <tr>\n",
       "      <th>84</th>\n",
       "      <td>37221.0</td>\n",
       "      <td>Planning &amp; Zoning</td>\n",
       "      <td>1</td>\n",
       "    </tr>\n",
       "    <tr>\n",
       "      <th>85</th>\n",
       "      <td>37221.0</td>\n",
       "      <td>Streets, Roads &amp; Sidewalks</td>\n",
       "      <td>3</td>\n",
       "    </tr>\n",
       "    <tr>\n",
       "      <th>86</th>\n",
       "      <td>37221.0</td>\n",
       "      <td>Trash, Recycling &amp; Litter</td>\n",
       "      <td>1</td>\n",
       "    </tr>\n",
       "  </tbody>\n",
       "</table>\n",
       "<p>87 rows × 3 columns</p>\n",
       "</div>"
      ],
      "text/plain": [
       "    zipcode                request_type  request_id\n",
       "0   37013.0                       Other           1\n",
       "1   37013.0           Planning & Zoning           1\n",
       "2   37013.0         Property Violations           3\n",
       "3   37013.0  Streets, Roads & Sidewalks           1\n",
       "4   37015.0         Property Violations           2\n",
       "..      ...                         ...         ...\n",
       "82  37220.0  Streets, Roads & Sidewalks           1\n",
       "83  37221.0       Education & Libraries           1\n",
       "84  37221.0           Planning & Zoning           1\n",
       "85  37221.0  Streets, Roads & Sidewalks           3\n",
       "86  37221.0   Trash, Recycling & Litter           1\n",
       "\n",
       "[87 rows x 3 columns]"
      ]
     },
     "execution_count": 32,
     "metadata": {},
     "output_type": "execute_result"
    }
   ],
   "source": [
    "grouped_slow_requests"
   ]
  },
  {
   "cell_type": "code",
   "execution_count": 33,
   "id": "0ebf2f9a",
   "metadata": {},
   "outputs": [],
   "source": [
    "conn = sql.connect('../Data/metro_survey.db')\n",
    "cur = conn.cursor()"
   ]
  },
  {
   "cell_type": "code",
   "execution_count": 34,
   "id": "fa0736f9",
   "metadata": {},
   "outputs": [],
   "source": [
    "cur.execute(\"SELECT name FROM sqlite_master WHERE type='table' ORDER BY name;\")\n",
    "\n",
    "available_tables = (cur.fetchall())"
   ]
  },
  {
   "cell_type": "code",
   "execution_count": 35,
   "id": "58099d07",
   "metadata": {},
   "outputs": [
    {
     "name": "stdout",
     "output_type": "stream",
     "text": [
      "[('codes',), ('equality_and_access',), ('general_services',), ('info',), ('overall',), ('recreation',), ('safety',), ('transportation',)]\n"
     ]
    }
   ],
   "source": [
    "print(available_tables)"
   ]
  },
  {
   "cell_type": "code",
   "execution_count": null,
   "id": "e472f699",
   "metadata": {},
   "outputs": [],
   "source": []
  }
 ],
 "metadata": {
  "kernelspec": {
   "display_name": "Python 3",
   "language": "python",
   "name": "python3"
  },
  "language_info": {
   "codemirror_mode": {
    "name": "ipython",
    "version": 3
   },
   "file_extension": ".py",
   "mimetype": "text/x-python",
   "name": "python",
   "nbconvert_exporter": "python",
   "pygments_lexer": "ipython3",
   "version": "3.8.8"
  }
 },
 "nbformat": 4,
 "nbformat_minor": 5
}
