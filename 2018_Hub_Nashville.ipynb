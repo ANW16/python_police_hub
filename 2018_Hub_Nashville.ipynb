{
 "cells": [
  {
   "cell_type": "code",
   "execution_count": 1,
   "id": "e213d899",
   "metadata": {},
   "outputs": [],
   "source": [
    "import pandas as pd\n",
    "import matplotlib.pyplot as plt\n",
    "import seaborn as sns\n",
    "import numpy as np\n",
    "import sqlite3 as sql\n",
    "\n",
    "%matplotlib inline"
   ]
  },
  {
   "cell_type": "code",
   "execution_count": 3,
   "id": "03879d0d",
   "metadata": {},
   "outputs": [],
   "source": [
    "hub = pd.read_csv('../Data/hubNashville_2018.csv')"
   ]
  },
  {
   "cell_type": "code",
   "execution_count": 4,
   "id": "939e299c",
   "metadata": {},
   "outputs": [
    {
     "data": {
      "text/plain": [
       "<bound method Index.unique of Index(['Request #', 'Status', 'Request Type', 'Subrequest Type',\n",
       "       'Additional Subrequest Type', 'Date / Time Opened',\n",
       "       'Date / Time Closed', 'Request Origin', 'Zipcode', 'Latitude',\n",
       "       'Longitude'],\n",
       "      dtype='object')>"
      ]
     },
     "execution_count": 4,
     "metadata": {},
     "output_type": "execute_result"
    }
   ],
   "source": [
    "hub.columns.unique"
   ]
  },
  {
   "cell_type": "code",
   "execution_count": 10,
   "id": "93bbf1d9",
   "metadata": {},
   "outputs": [],
   "source": [
    "hub = hub.rename(columns = {'Request #' : 'request_id', 'Status' : 'status', 'Request Type' : 'request_type', 'Subrequest Type' : 'subrequest_type',\n",
    "       'Additional Subrequest Type' : 'add_subrequest_type', 'Date / Time Opened' : 'opened',\n",
    "       'Date / Time Closed' : 'closed', 'Request Origin' : 'origin', 'Zipcode' : 'zipcode', 'Latitude' : 'lat',\n",
    "       'Longitude' : 'lng'})"
   ]
  },
  {
   "cell_type": "code",
   "execution_count": 30,
   "id": "ad257ef5",
   "metadata": {},
   "outputs": [],
   "source": [
    "focused_hub = hub.loc[~hub['closed'].isna()]"
   ]
  },
  {
   "cell_type": "code",
   "execution_count": 34,
   "id": "6635022b",
   "metadata": {},
   "outputs": [
    {
     "name": "stderr",
     "output_type": "stream",
     "text": [
      "<ipython-input-34-e1a994f87d3b>:1: SettingWithCopyWarning: \n",
      "A value is trying to be set on a copy of a slice from a DataFrame.\n",
      "Try using .loc[row_indexer,col_indexer] = value instead\n",
      "\n",
      "See the caveats in the documentation: https://pandas.pydata.org/pandas-docs/stable/user_guide/indexing.html#returning-a-view-versus-a-copy\n",
      "  focused_hub['closed'] = pd.to_datetime(focused_hub['closed'])\n"
     ]
    }
   ],
   "source": [
    "focused_hub['closed'] = pd.to_datetime(focused_hub['closed'])"
   ]
  },
  {
   "cell_type": "code",
   "execution_count": 33,
   "id": "bc9e8f16",
   "metadata": {},
   "outputs": [
    {
     "data": {
      "text/plain": [
       "request_id                      int64\n",
       "status                         object\n",
       "request_type                   object\n",
       "subrequest_type                object\n",
       "add_subrequest_type            object\n",
       "opened                 datetime64[ns]\n",
       "closed                         object\n",
       "origin                         object\n",
       "zipcode                       float64\n",
       "lat                           float64\n",
       "lng                           float64\n",
       "dtype: object"
      ]
     },
     "execution_count": 33,
     "metadata": {},
     "output_type": "execute_result"
    }
   ],
   "source": []
  },
  {
   "cell_type": "code",
   "execution_count": null,
   "id": "ed00c1ed",
   "metadata": {},
   "outputs": [],
   "source": []
  }
 ],
 "metadata": {
  "kernelspec": {
   "display_name": "Python 3",
   "language": "python",
   "name": "python3"
  },
  "language_info": {
   "codemirror_mode": {
    "name": "ipython",
    "version": 3
   },
   "file_extension": ".py",
   "mimetype": "text/x-python",
   "name": "python",
   "nbconvert_exporter": "python",
   "pygments_lexer": "ipython3",
   "version": "3.8.8"
  }
 },
 "nbformat": 4,
 "nbformat_minor": 5
}
